{
  "nbformat": 4,
  "nbformat_minor": 0,
  "metadata": {
    "colab": {
      "name": "uuid_generator.ipynb",
      "provenance": [],
      "authorship_tag": "ABX9TyP9Cr7UnZNzr5pY7iwYjwcE",
      "include_colab_link": true
    },
    "kernelspec": {
      "name": "python3",
      "display_name": "Python 3"
    },
    "language_info": {
      "name": "python"
    }
  },
  "cells": [
    {
      "cell_type": "markdown",
      "metadata": {
        "id": "view-in-github",
        "colab_type": "text"
      },
      "source": [
        "<a href=\"https://colab.research.google.com/github/jdodoo/uuid_generator/blob/develop/uuid_generator.ipynb\" target=\"_parent\"><img src=\"https://colab.research.google.com/assets/colab-badge.svg\" alt=\"Open In Colab\"/></a>"
      ]
    },
    {
      "cell_type": "code",
      "metadata": {
        "id": "AkfLPHJqfaFU"
      },
      "source": [
        "def checkIfDuplicates_1(listOfElems):\n",
        "    ''' Check if given list contains any duplicates '''\n",
        "    if len(listOfElems) == len(set(listOfElems)):\n",
        "        return False\n",
        "    else:\n",
        "        return True"
      ],
      "execution_count": 1,
      "outputs": []
    },
    {
      "cell_type": "code",
      "metadata": {
        "colab": {
          "base_uri": "https://localhost:8080/"
        },
        "id": "lOu6g4pyb7i6",
        "outputId": "3badf412-b6b8-4b59-fa81-480aa035228d"
      },
      "source": [
        "# generate list of 150 random UUIDs\n",
        "import uuid\n",
        "\n",
        "# initiate list of IDs\n",
        "ListofIDs = [];\n",
        "\n",
        "while len(ListofIDs)<150:\n",
        "  newID = str(uuid.uuid4())[:8];\n",
        "  # add UUID to list\n",
        "  ListofIDs.append(newID)\n",
        "\n",
        "print(ListofIDs)"
      ],
      "execution_count": 3,
      "outputs": [
        {
          "output_type": "stream",
          "name": "stdout",
          "text": [
            "['db220245', 'c7bd3b02', '161d5a00', '93c17f51', 'fee7762d', 'bbf30617', '8d7d0728', '267935af', '0a16594f', 'b066b180', '0cf20ca2', '94ba609a', '2ec4ab19', '25be7a50', '68ba9c7b', '67f635e5', '7f13acf7', '40d4f659', '78e0a22c', '89f9787a', '671c58d5', '54409026', '04eacd91', '09414743', '392e7f2a', '3ed4630c', 'ede79286', '5a1371d9', 'fc4f52ae', 'ff26cec1', 'ec6fbebc', 'c4295db7', '40bbbe31', '8d10f226', '3fb2778e', 'f3fa3f05', '20335f8d', '3d7ff82c', 'b2aff4b9', 'c17c0e87', 'd7f88345', '807af89a', 'f0cf7bed', 'ebe0f946', '63ff7826', 'cfda74f6', 'a14a81f1', '7f0c161b', '8ee3d306', 'f52f33a6', 'c38dadb0', 'bd6c5d1e', 'c2eaccaf', 'a5ffd83d', '05d54128', 'cb3c6294', 'ab042dcc', '9a1a6f55', '7757b5fe', '6942867f', 'fbf40f91', '501aef12', '8379c24c', '0b7d0f83', '43463f46', '58f0c517', '30424b42', 'cacc2e75', '5d6b93b8', '39477faf', '3b0e4838', '028d0372', '10a62205', 'bcd8aa3a', '577ec5bc', '5145121b', 'a7885c50', 'ed7fa2cf', '199a3b30', '94f0158a', '7c6cf66a', 'ee909f30', 'f23e112f', 'da64ff44', '1bbc7588', '4aabd7e7', 'ec748851', '734c955b', '4576afd2', 'ffe5be53', 'a0c8f6dd', '285068e9', '6cdf8d9a', '7ebd1394', '489808f0', '60f8eb46', '0fd6defc', 'd4545133', 'ce15160d', 'b3f8f15f', '3cac5011', '54398cfd', 'd5d4deaf', '86dfe5f9', '3bfc45d4', '520c8eb0', 'd3bde8cc', '7b432a87', '98d80f98', '4c730a8b', '19e5c698', '68a11eba', 'e473d88a', 'ea9e2820', '742db15e', 'd6792e51', '578ef631', '9f3b4119', 'd07538c6', '42349099', 'ab9981eb', 'edadb865', 'bc663591', '0f1e5d95', 'dc586e91', 'b9ac0b03', 'f5443227', 'dbde0936', 'c655cfee', '5e2ebcb1', '1efaa4dd', '5b993cb5', '4433d05c', '8495eac3', 'b609a241', '503bc196', '2ecb3f9a', '33f2b29b', '19fa1500', '08b63e15', '04648d8b', 'c9fa85dd', '10cfdbd9', '69920707', '04eab6c3', '658008fb', '78850f9c', '16f8de13', '183683c5', '92982d44']\n"
          ]
        }
      ]
    },
    {
      "cell_type": "code",
      "metadata": {
        "colab": {
          "base_uri": "https://localhost:8080/"
        },
        "id": "Z20lF7VyfeHs",
        "outputId": "9fea451e-f579-4c79-f39f-499746ba8f5c"
      },
      "source": [
        "# check if duplicates in list\n",
        "checkIfDuplicates_1(ListofIDs)"
      ],
      "execution_count": 4,
      "outputs": [
        {
          "output_type": "execute_result",
          "data": {
            "text/plain": [
              "False"
            ]
          },
          "metadata": {},
          "execution_count": 4
        }
      ]
    },
    {
      "cell_type": "code",
      "metadata": {
        "id": "psH7XkZNmI18",
        "colab": {
          "base_uri": "https://localhost:8080/"
        },
        "outputId": "ed914b72-fbc5-4a89-8538-84462929677d"
      },
      "source": [
        "# mount google drive\n",
        "from google.colab import drive\n",
        "drive.mount('/gdrive')\n"
      ],
      "execution_count": 5,
      "outputs": [
        {
          "output_type": "stream",
          "name": "stdout",
          "text": [
            "Mounted at /gdrive\n"
          ]
        }
      ]
    },
    {
      "cell_type": "code",
      "metadata": {
        "id": "6NXhRg8vfyHb",
        "colab": {
          "base_uri": "https://localhost:8080/"
        },
        "outputId": "646615fb-ee78-40d7-9241-fdf0374fe5cc"
      },
      "source": [
        "# save list in text file\n",
        "with open('/gdrive/MyDrive/data/OutputUuids.txt', 'w') as writefile:\n",
        "    for n in ListofIDs:\n",
        "      print(n)\n",
        "      writefile.write(n+'\\n')"
      ],
      "execution_count": 6,
      "outputs": [
        {
          "output_type": "stream",
          "name": "stdout",
          "text": [
            "db220245\n",
            "c7bd3b02\n",
            "161d5a00\n",
            "93c17f51\n",
            "fee7762d\n",
            "bbf30617\n",
            "8d7d0728\n",
            "267935af\n",
            "0a16594f\n",
            "b066b180\n",
            "0cf20ca2\n",
            "94ba609a\n",
            "2ec4ab19\n",
            "25be7a50\n",
            "68ba9c7b\n",
            "67f635e5\n",
            "7f13acf7\n",
            "40d4f659\n",
            "78e0a22c\n",
            "89f9787a\n",
            "671c58d5\n",
            "54409026\n",
            "04eacd91\n",
            "09414743\n",
            "392e7f2a\n",
            "3ed4630c\n",
            "ede79286\n",
            "5a1371d9\n",
            "fc4f52ae\n",
            "ff26cec1\n",
            "ec6fbebc\n",
            "c4295db7\n",
            "40bbbe31\n",
            "8d10f226\n",
            "3fb2778e\n",
            "f3fa3f05\n",
            "20335f8d\n",
            "3d7ff82c\n",
            "b2aff4b9\n",
            "c17c0e87\n",
            "d7f88345\n",
            "807af89a\n",
            "f0cf7bed\n",
            "ebe0f946\n",
            "63ff7826\n",
            "cfda74f6\n",
            "a14a81f1\n",
            "7f0c161b\n",
            "8ee3d306\n",
            "f52f33a6\n",
            "c38dadb0\n",
            "bd6c5d1e\n",
            "c2eaccaf\n",
            "a5ffd83d\n",
            "05d54128\n",
            "cb3c6294\n",
            "ab042dcc\n",
            "9a1a6f55\n",
            "7757b5fe\n",
            "6942867f\n",
            "fbf40f91\n",
            "501aef12\n",
            "8379c24c\n",
            "0b7d0f83\n",
            "43463f46\n",
            "58f0c517\n",
            "30424b42\n",
            "cacc2e75\n",
            "5d6b93b8\n",
            "39477faf\n",
            "3b0e4838\n",
            "028d0372\n",
            "10a62205\n",
            "bcd8aa3a\n",
            "577ec5bc\n",
            "5145121b\n",
            "a7885c50\n",
            "ed7fa2cf\n",
            "199a3b30\n",
            "94f0158a\n",
            "7c6cf66a\n",
            "ee909f30\n",
            "f23e112f\n",
            "da64ff44\n",
            "1bbc7588\n",
            "4aabd7e7\n",
            "ec748851\n",
            "734c955b\n",
            "4576afd2\n",
            "ffe5be53\n",
            "a0c8f6dd\n",
            "285068e9\n",
            "6cdf8d9a\n",
            "7ebd1394\n",
            "489808f0\n",
            "60f8eb46\n",
            "0fd6defc\n",
            "d4545133\n",
            "ce15160d\n",
            "b3f8f15f\n",
            "3cac5011\n",
            "54398cfd\n",
            "d5d4deaf\n",
            "86dfe5f9\n",
            "3bfc45d4\n",
            "520c8eb0\n",
            "d3bde8cc\n",
            "7b432a87\n",
            "98d80f98\n",
            "4c730a8b\n",
            "19e5c698\n",
            "68a11eba\n",
            "e473d88a\n",
            "ea9e2820\n",
            "742db15e\n",
            "d6792e51\n",
            "578ef631\n",
            "9f3b4119\n",
            "d07538c6\n",
            "42349099\n",
            "ab9981eb\n",
            "edadb865\n",
            "bc663591\n",
            "0f1e5d95\n",
            "dc586e91\n",
            "b9ac0b03\n",
            "f5443227\n",
            "dbde0936\n",
            "c655cfee\n",
            "5e2ebcb1\n",
            "1efaa4dd\n",
            "5b993cb5\n",
            "4433d05c\n",
            "8495eac3\n",
            "b609a241\n",
            "503bc196\n",
            "2ecb3f9a\n",
            "33f2b29b\n",
            "19fa1500\n",
            "08b63e15\n",
            "04648d8b\n",
            "c9fa85dd\n",
            "10cfdbd9\n",
            "69920707\n",
            "04eab6c3\n",
            "658008fb\n",
            "78850f9c\n",
            "16f8de13\n",
            "183683c5\n",
            "92982d44\n"
          ]
        }
      ]
    }
  ]
}