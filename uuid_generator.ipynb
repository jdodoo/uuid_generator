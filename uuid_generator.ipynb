{
  "nbformat": 4,
  "nbformat_minor": 0,
  "metadata": {
    "colab": {
      "name": "uuid_generator.ipynb",
      "provenance": [],
      "authorship_tag": "ABX9TyOyLZzjYGTn4xE10ouL64rO",
      "include_colab_link": true
    },
    "kernelspec": {
      "name": "python3",
      "display_name": "Python 3"
    },
    "language_info": {
      "name": "python"
    }
  },
  "cells": [
    {
      "cell_type": "markdown",
      "metadata": {
        "id": "view-in-github",
        "colab_type": "text"
      },
      "source": [
        "<a href=\"https://colab.research.google.com/github/jdodoo/uuid_generator/blob/develop/uuid_generator.ipynb\" target=\"_parent\"><img src=\"https://colab.research.google.com/assets/colab-badge.svg\" alt=\"Open In Colab\"/></a>"
      ]
    },
    {
      "cell_type": "code",
      "metadata": {
        "id": "AkfLPHJqfaFU"
      },
      "source": [
        "def checkIfDuplicates_1(listOfElems):\n",
        "    ''' Check if given list contains any duplicates '''\n",
        "    if len(listOfElems) == len(set(listOfElems)):\n",
        "        return False\n",
        "    else:\n",
        "        return True"
      ],
      "execution_count": null,
      "outputs": []
    },
    {
      "cell_type": "code",
      "metadata": {
        "colab": {
          "base_uri": "https://localhost:8080/"
        },
        "id": "lOu6g4pyb7i6",
        "outputId": "309b1ffa-c5f0-4356-8c1c-0fa2977ef027"
      },
      "source": [
        "# generate list of 50 random UUIDs\n",
        "import uuid\n",
        "\n",
        "# initiate list of IDs\n",
        "ListofIDs = [];\n",
        "\n",
        "while len(ListofIDs)<50:\n",
        "  newID = str(uuid.uuid4())[:8];\n",
        "  # add UUID to list\n",
        "  ListofIDs.append(newID)\n",
        "\n",
        "print(ListofIDs)"
      ],
      "execution_count": null,
      "outputs": [
        {
          "output_type": "stream",
          "text": [
            "['bca07735', '766d6217', 'eb4db1a5', 'fce80177', '7b3e7d31', '15d6087a', '3fd525d3', 'e06ac410', '6fae019e', '795cba11', '927fba4b', '58575c58', 'af584cc2', '61f990b7', '2f21a8ce', 'bcafe6e9', '6674404a', 'e154c862', '464fa67b', '271a81ae', 'c2b0b278', '0b59b469', 'ae667c29', 'ce4ba34c', 'a3c80a46', '9b838311', '68379613', 'c3b9d7b0', '723941b0', '6e614023', '7fd2581f', '3ebe12e2', 'dbcf0f8c', '10ccad30', '62f97e8c', '73b6d5fe', 'dada14f4', 'a3dd253c', '1a398f1b', 'd035118b', '92615428', '152839c7', '21992e04', '911676ae', 'a92d4059', '3410cf9f', '371878b3', '2be2676c', '000f17cb', '66de48e9']\n"
          ],
          "name": "stdout"
        }
      ]
    },
    {
      "cell_type": "code",
      "metadata": {
        "colab": {
          "base_uri": "https://localhost:8080/"
        },
        "id": "Z20lF7VyfeHs",
        "outputId": "20290ad9-4188-4ff4-aadd-149ee986345b"
      },
      "source": [
        "# check if duplicates in list\n",
        "checkIfDuplicates_1(ListofIDs)"
      ],
      "execution_count": null,
      "outputs": [
        {
          "output_type": "execute_result",
          "data": {
            "text/plain": [
              "False"
            ]
          },
          "metadata": {},
          "execution_count": 36
        }
      ]
    },
    {
      "cell_type": "code",
      "metadata": {
        "id": "psH7XkZNmI18"
      },
      "source": [
        "# mount google drive\n",
        "from google.colab import drive\n",
        "drive.mount('/gdrive')\n"
      ],
      "execution_count": null,
      "outputs": []
    },
    {
      "cell_type": "code",
      "metadata": {
        "id": "6NXhRg8vfyHb",
        "colab": {
          "base_uri": "https://localhost:8080/"
        },
        "outputId": "69b94314-3d33-4e81-fbad-6136ae70201d"
      },
      "source": [
        "# save list in text file\n",
        "with open('/gdrive/MyDrive/data/OutputUuids.txt', 'w') as writefile:\n",
        "    for n in ListofIDs:\n",
        "      print(n)\n",
        "      writefile.write(n+'\\n')"
      ],
      "execution_count": null,
      "outputs": [
        {
          "output_type": "stream",
          "text": [
            "bca07735\n",
            "766d6217\n",
            "eb4db1a5\n",
            "fce80177\n",
            "7b3e7d31\n",
            "15d6087a\n",
            "3fd525d3\n",
            "e06ac410\n",
            "6fae019e\n",
            "795cba11\n",
            "927fba4b\n",
            "58575c58\n",
            "af584cc2\n",
            "61f990b7\n",
            "2f21a8ce\n",
            "bcafe6e9\n",
            "6674404a\n",
            "e154c862\n",
            "464fa67b\n",
            "271a81ae\n",
            "c2b0b278\n",
            "0b59b469\n",
            "ae667c29\n",
            "ce4ba34c\n",
            "a3c80a46\n",
            "9b838311\n",
            "68379613\n",
            "c3b9d7b0\n",
            "723941b0\n",
            "6e614023\n",
            "7fd2581f\n",
            "3ebe12e2\n",
            "dbcf0f8c\n",
            "10ccad30\n",
            "62f97e8c\n",
            "73b6d5fe\n",
            "dada14f4\n",
            "a3dd253c\n",
            "1a398f1b\n",
            "d035118b\n",
            "92615428\n",
            "152839c7\n",
            "21992e04\n",
            "911676ae\n",
            "a92d4059\n",
            "3410cf9f\n",
            "371878b3\n",
            "2be2676c\n",
            "000f17cb\n",
            "66de48e9\n"
          ],
          "name": "stdout"
        }
      ]
    }
  ]
}